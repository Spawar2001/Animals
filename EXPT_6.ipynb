{
  "cells": [
    {
      "cell_type": "code",
      "execution_count": null,
      "id": "2bfceead-b42b-4a42-a839-973693e5d974",
      "metadata": {
        "id": "2bfceead-b42b-4a42-a839-973693e5d974"
      },
      "outputs": [],
      "source": [
        "import numpy as np\n",
        "import pandas as pd\n",
        "import math\n",
        "import scipy.stats as stats"
      ]
    },
    {
      "cell_type": "code",
      "execution_count": null,
      "id": "e0b6c1cd-ce36-455d-8b10-ef0bddf62628",
      "metadata": {
        "id": "e0b6c1cd-ce36-455d-8b10-ef0bddf62628"
      },
      "outputs": [],
      "source": [
        "def check_for(sym, arr):\n",
        "    i = [i for i in range(len(arr)) if arr[i] == sym]\n",
        "    if i != []:\n",
        "        return i[0]\n",
        "    else:\n",
        "        return None"
      ]
    },
    {
      "cell_type": "code",
      "execution_count": null,
      "id": "d0ba96ef-10cf-4650-ba38-b33a3e4fa7ab",
      "metadata": {
        "id": "d0ba96ef-10cf-4650-ba38-b33a3e4fa7ab"
      },
      "outputs": [],
      "source": [
        "def t_test(x, u, s, n, alpha):\n",
        "    null_hypo = input(\"Enter Null hypothesis: \")\n",
        "    null_hypo = null_hypo.split(' ')\n",
        "    alternate_hypo = [i for i in null_hypo]\n",
        "    test_type = ''\n",
        "\n",
        "#check hypothesis\n",
        "    if check_for('>=', null_hypo):\n",
        "        alternate_hypo[check_for('>=', null_hypo)] = '<'\n",
        "        test_type = 'Left Tailed Test'\n",
        "    elif check_for('<=', null_hypo):\n",
        "        alternate_hypo[check_for('<=', null_hypo)] = '>'\n",
        "        test_type = 'Right Tailed Test'\n",
        "    elif check_for('>', null_hypo):\n",
        "        alternate_hypo[check_for('>', null_hypo)] = '<='\n",
        "        test_type = 'Left Tailed Test'\n",
        "    elif check_for('<', null_hypo):\n",
        "        alternate_hypo[check_for('<', null_hypo)] = '>='\n",
        "        test_type = 'Right Tailed Test'\n",
        "    elif check_for('=', null_hypo):\n",
        "        alternate_hypo[check_for('=', null_hypo)] = '!='\n",
        "        test_type = 'Two Tailed Test'\n",
        "    else:\n",
        "        print(\"Failed!\")\n",
        "        return\n",
        "\n",
        "#   calculate DF\n",
        "    df = n-1\n",
        "\n",
        "#   Calculate t-Score, P-value, Critical Value\n",
        "    t_score = (x-u)/(s/math.sqrt(n))\n",
        "\n",
        "    if test_type == 'Left Tailed Test':\n",
        "        critical_value = stats.t.ppf(alpha, df)\n",
        "    elif test_type == 'Right Tailed Test':\n",
        "        critical_value = stats.t.ppf(1-alpha, df)\n",
        "    else:\n",
        "        critical_value = stats.t.ppf(1-alpha, df)\n",
        "\n",
        "    if test_type == 'Left Tailed Test':\n",
        "        p_value = stats.t.cdf(t_score, df)\n",
        "    elif test_type == 'Right Tailed Test':\n",
        "        p_value = stats.t.cdf(t_score, df)\n",
        "    else:\n",
        "        p_value = 2 * (1 - stats.t.cdf(abs(t_score), df))\n",
        "\n",
        "#   Print the results\n",
        "    print('Null (Ho) : ', \" \".join(null_hypo))\n",
        "    print('Alternate (Ha) : ', \" \".join(alternate_hypo))\n",
        "    print('Test type : '+test_type)\n",
        "    print('T-Score : ', end='')\n",
        "    print(t_score)\n",
        "    print('P-value : ', end='')\n",
        "    print(p_value)\n",
        "    print('Critical Value : ', end='')\n",
        "    print(critical_value)\n",
        "\n",
        "    if abs(t_score) < abs(critical_value): print(\"\\nNull Hypothesis Ho is rejected!\\nAlternate Hypothesis Ho is accepted!\")\n",
        "    else: print(\"\\nNull Hypothesis Ho is accepted!\")"
      ]
    },
    {
      "cell_type": "raw",
      "id": "9b61ca0f-fea4-467f-a9f8-36617f84c935",
      "metadata": {
        "id": "9b61ca0f-fea4-467f-a9f8-36617f84c935"
      },
      "source": [
        "T Test on Example"
      ]
    },
    {
      "cell_type": "code",
      "execution_count": null,
      "id": "7719f2c2-cc44-4b9e-82b1-f83681d7f0a4",
      "metadata": {
        "colab": {
          "base_uri": "https://localhost:8080/"
        },
        "id": "7719f2c2-cc44-4b9e-82b1-f83681d7f0a4",
        "outputId": "76e1b25f-36a2-4c87-feae-93f23afd5c91"
      },
      "outputs": [
        {
          "output_type": "stream",
          "name": "stdout",
          "text": [
            "Enter Null hypothesis: u >= 24\n",
            "Null (Ho) :  u >= 24\n",
            "Alternate (Ha) :  u < 24\n",
            "Test type : Left Tailed Test\n",
            "T-Score : -2.165063509461097\n",
            "P-value : 0.019871691014976007\n",
            "Critical Value : -2.478629823591159\n",
            "\n",
            "Null Hypothesis Ho is rejected!\n",
            "Alternate Hypothesis Ho is accepted!\n"
          ]
        }
      ],
      "source": [
        "x = 22\n",
        "u = 24\n",
        "s = 4.8\n",
        "n = 27\n",
        "alpha = 0.01\n",
        "\n",
        "t_test(x, u, s, n, alpha)"
      ]
    },
    {
      "cell_type": "raw",
      "id": "026d8c50-2aa6-4906-956e-85658ab6e488",
      "metadata": {
        "id": "026d8c50-2aa6-4906-956e-85658ab6e488"
      },
      "source": [
        "T Test on Selected Dataset"
      ]
    },
    {
      "cell_type": "code",
      "execution_count": null,
      "id": "95962f4e-470d-42f9-a615-372c166c99f4",
      "metadata": {
        "id": "95962f4e-470d-42f9-a615-372c166c99f4"
      },
      "outputs": [],
      "source": [
        "df = pd.read_csv('/content/dairy_dataset.csv')"
      ]
    },
    {
      "cell_type": "code",
      "execution_count": null,
      "id": "9ad37636-a879-4e18-9af3-3b8605221b39",
      "metadata": {
        "id": "9ad37636-a879-4e18-9af3-3b8605221b39"
      },
      "outputs": [],
      "source": [
        "sample = df.sample(n = 20)"
      ]
    },
    {
      "cell_type": "code",
      "execution_count": null,
      "id": "4d995efb-a5ab-43e9-bf44-25747494fd3f",
      "metadata": {
        "colab": {
          "base_uri": "https://localhost:8080/"
        },
        "id": "4d995efb-a5ab-43e9-bf44-25747494fd3f",
        "outputId": "ece77455-3e4a-4d45-8bbe-c2779a3d5f9b"
      },
      "outputs": [
        {
          "output_type": "stream",
          "name": "stdout",
          "text": [
            "Enter Null hypothesis: u >= 8\n",
            "Null (Ho) :  u >= 8\n",
            "Alternate (Ha) :  u < 8\n",
            "Test type : Left Tailed Test\n",
            "T-Score : -0.37143575848149735\n",
            "P-value : 0.35721134372177754\n",
            "Critical Value : -1.7291328115213678\n",
            "\n",
            "Null Hypothesis Ho is rejected!\n",
            "Alternate Hypothesis Ho is accepted!\n"
          ]
        }
      ],
      "source": [
        "u = df['Quantity Sold (liters/kg)'].mean()\n",
        "x = sample['Quantity Sold (liters/kg)'].mean()\n",
        "s = sample['Quantity Sold (liters/kg)'].std()\n",
        "n = sample['Quantity Sold (liters/kg)'].count()\n",
        "alpha = 0.05\n",
        "\n",
        "t_test(x, u, s, n, alpha )"
      ]
    }
  ],
  "metadata": {
    "kernelspec": {
      "display_name": "Python 3 (ipykernel)",
      "language": "python",
      "name": "python3"
    },
    "language_info": {
      "codemirror_mode": {
        "name": "ipython",
        "version": 3
      },
      "file_extension": ".py",
      "mimetype": "text/x-python",
      "name": "python",
      "nbconvert_exporter": "python",
      "pygments_lexer": "ipython3",
      "version": "3.11.4"
    },
    "colab": {
      "provenance": []
    }
  },
  "nbformat": 4,
  "nbformat_minor": 5
}