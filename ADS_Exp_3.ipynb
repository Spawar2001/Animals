{
  "nbformat": 4,
  "nbformat_minor": 0,
  "metadata": {
    "colab": {
      "provenance": []
    },
    "kernelspec": {
      "name": "python3",
      "display_name": "Python 3"
    },
    "language_info": {
      "name": "python"
    }
  },
  "cells": [
    {
      "cell_type": "markdown",
      "source": [
        "## **Experiment 3: Ungrouped Data**"
      ],
      "metadata": {
        "id": "i9F7fhpytqZu"
      }
    },
    {
      "cell_type": "code",
      "execution_count": null,
      "metadata": {
        "id": "sq4OBpOerXYw"
      },
      "outputs": [],
      "source": [
        "import pandas as pd"
      ]
    },
    {
      "cell_type": "code",
      "source": [
        "!pip install scipy"
      ],
      "metadata": {
        "id": "YNy_lk8IrojW",
        "colab": {
          "base_uri": "https://localhost:8080/"
        },
        "outputId": "075f7751-24c0-4a83-ad23-7c858f721ff4"
      },
      "execution_count": null,
      "outputs": [
        {
          "output_type": "stream",
          "name": "stdout",
          "text": [
            "Requirement already satisfied: scipy in /usr/local/lib/python3.10/dist-packages (1.11.4)\n",
            "Requirement already satisfied: numpy<1.28.0,>=1.21.6 in /usr/local/lib/python3.10/dist-packages (from scipy) (1.25.2)\n"
          ]
        }
      ]
    },
    {
      "cell_type": "code",
      "source": [
        "from scipy.stats import pearsonr"
      ],
      "metadata": {
        "id": "CAPRlNqvrt_F"
      },
      "execution_count": null,
      "outputs": []
    },
    {
      "cell_type": "code",
      "source": [
        "data = pd.read_csv(\"/content/dairy_dataset.csv\")\n",
        "# print(data)"
      ],
      "metadata": {
        "id": "JfNXOeNor8A2"
      },
      "execution_count": null,
      "outputs": []
    },
    {
      "cell_type": "code",
      "source": [
        "temp = data.iloc[1:11]\n",
        "print(temp)"
      ],
      "metadata": {
        "id": "4QbKDhzws7Qe",
        "colab": {
          "base_uri": "https://localhost:8080/"
        },
        "outputId": "e7d73e55-9648-44ef-f828-ede0cb1e95b4"
      },
      "execution_count": null,
      "outputs": [
        {
          "output_type": "stream",
          "name": "stdout",
          "text": [
            "          Location  Total Land Area (acres)  Number of Cows Farm Size  \\\n",
            "1    Uttar Pradesh                    19.19              44     Large   \n",
            "2       Tamil Nadu                   581.69              24    Medium   \n",
            "3        Telangana                   908.00              89     Small   \n",
            "4      Maharashtra                   861.95              21    Medium   \n",
            "5        Telangana                    87.64              51    Medium   \n",
            "6        Karnataka                    73.28              74     Small   \n",
            "7            Bihar                    67.61              77    Medium   \n",
            "8      West Bengal                    72.31              76    Medium   \n",
            "9        Telangana                   413.24              36     Large   \n",
            "10  Madhya Pradesh                   867.78              82     Small   \n",
            "\n",
            "          Date  Product ID Product Name                 Brand  \\\n",
            "1   2021-12-01           1         Milk                  Amul   \n",
            "2   2022-02-28           4       Yogurt           Dodla Dairy   \n",
            "3   2019-06-09           3       Cheese  Britannia Industries   \n",
            "4   2020-12-14           8   Buttermilk          Mother Dairy   \n",
            "5   2019-01-07           6         Curd                   Raj   \n",
            "6   2022-08-05           3       Cheese       Dynamix Dairies   \n",
            "7   2019-02-14           9       Paneer          Mother Dairy   \n",
            "8   2020-08-02           6         Curd                   Raj   \n",
            "9   2022-03-04           8   Buttermilk          Mother Dairy   \n",
            "10  2021-12-22           4       Yogurt           Dodla Dairy   \n",
            "\n",
            "    Quantity (liters/kg)  Price per Unit  ...  Production Date  \\\n",
            "1                 687.48           42.61  ...       2021-10-03   \n",
            "2                 503.48           36.50  ...       2022-01-14   \n",
            "3                 823.36           26.52  ...       2019-05-15   \n",
            "4                 147.77           83.85  ...       2020-10-17   \n",
            "5                 593.92           85.54  ...       2019-01-03   \n",
            "6                 757.14           36.83  ...       2022-06-14   \n",
            "7                 203.36           29.08  ...       2019-01-06   \n",
            "8                 949.12           22.79  ...       2020-06-06   \n",
            "9                 385.64           42.08  ...       2022-02-03   \n",
            "10                 52.62           67.23  ...       2021-11-02   \n",
            "\n",
            "    Expiration Date Quantity Sold (liters/kg) Price per Unit (sold)  \\\n",
            "1        2021-10-25                       558                 39.24   \n",
            "2        2022-02-13                       256                 33.81   \n",
            "3        2019-07-26                       601                 28.92   \n",
            "4        2020-10-28                       145                 83.07   \n",
            "5        2019-01-08                        74                 84.75   \n",
            "6        2022-09-05                       410                 32.66   \n",
            "7        2019-01-20                        15                 29.09   \n",
            "8        2020-06-12                       860                 24.77   \n",
            "9        2022-02-12                       108                 46.15   \n",
            "10       2021-11-26                        22                 68.09   \n",
            "\n",
            "   Approx. Total Revenue(INR)  Customer Location  Sales Channel  \\\n",
            "1                    21895.92             Kerala      Wholesale   \n",
            "2                     8655.36     Madhya Pradesh         Online   \n",
            "3                    17380.92          Rajasthan         Online   \n",
            "4                    12045.15          Jharkhand         Retail   \n",
            "5                     6271.50            Gujarat         Retail   \n",
            "6                    13390.60          Karnataka         Online   \n",
            "7                      436.35            Haryana         Online   \n",
            "8                    21302.20          Jharkhand      Wholesale   \n",
            "9                     4984.20         Tamil Nadu         Retail   \n",
            "10                    1497.98             Kerala      Wholesale   \n",
            "\n",
            "    Quantity in Stock (liters/kg) Minimum Stock Threshold (liters/kg)  \\\n",
            "1                             129                               43.17   \n",
            "2                             247                               15.10   \n",
            "3                             222                               74.50   \n",
            "4                               2                               76.02   \n",
            "5                             519                               55.60   \n",
            "6                             347                               49.82   \n",
            "7                             188                               10.90   \n",
            "8                              89                               85.71   \n",
            "9                             277                               93.61   \n",
            "10                             30                               81.34   \n",
            "\n",
            "   Reorder Quantity (liters/kg)  \n",
            "1                        181.10  \n",
            "2                        140.83  \n",
            "3                         57.68  \n",
            "4                         33.40  \n",
            "5                        139.59  \n",
            "6                        105.86  \n",
            "7                         25.14  \n",
            "8                         32.03  \n",
            "9                         66.26  \n",
            "10                       118.57  \n",
            "\n",
            "[10 rows x 23 columns]\n"
          ]
        }
      ]
    },
    {
      "cell_type": "code",
      "source": [
        "Area = temp['Quantity Sold (liters/kg)']\n",
        "Yield = temp['Price per Unit (sold)']"
      ],
      "metadata": {
        "id": "2pVwGUIcsRiW"
      },
      "execution_count": null,
      "outputs": []
    },
    {
      "cell_type": "code",
      "source": [
        "# calculate Pearson's correlation\n",
        "corr, _ = pearsonr(Area, Yield)\n",
        "print('Pearsons correlation: %.3f' % corr)\n",
        "\n",
        "if corr > 0.75:\n",
        "  print(\"Highly Correlated\")\n",
        "elif 0.3 < corr > 0.75:\n",
        "  print(\"Moderate Correlaton\")\n",
        "else:\n",
        "  print(\"Very low Correlation\")"
      ],
      "metadata": {
        "id": "0Zar_uE0smmE",
        "colab": {
          "base_uri": "https://localhost:8080/"
        },
        "outputId": "29ba7da4-2aec-4810-d8a5-1b33a378b4c2"
      },
      "execution_count": null,
      "outputs": [
        {
          "output_type": "stream",
          "name": "stdout",
          "text": [
            "Pearsons correlation: -0.594\n",
            "Very low Correlation\n"
          ]
        }
      ]
    },
    {
      "cell_type": "markdown",
      "source": [
        "# **For Grouped Data**"
      ],
      "metadata": {
        "id": "Fl2dKs1St2HF"
      }
    },
    {
      "cell_type": "code",
      "source": [
        "import numpy as np\n",
        "import pandas as pd\n"
      ],
      "metadata": {
        "id": "H5N2NqQYyb7C"
      },
      "execution_count": null,
      "outputs": []
    },
    {
      "cell_type": "code",
      "source": [
        "gr_data = pd.read_csv(\"/content/Grouped_Data_Exp3_Shubham.csv\")\n",
        "print(gr_data)\n",
        "mat = gr_data.to_numpy()\n",
        "# print(mat)\n",
        "# print(mat[:,0])"
      ],
      "metadata": {
        "id": "oIvoIMJot72a",
        "colab": {
          "base_uri": "https://localhost:8080/"
        },
        "outputId": "ca2534c1-fc03-49c9-a01c-33f13219019a"
      },
      "execution_count": null,
      "outputs": [
        {
          "output_type": "stream",
          "name": "stdout",
          "text": [
            "  Quantity Sold (liters/kg)_grp / Price per Unit (sold)_grp  0 - 20  20 - 40  \\\n",
            "0                                            0 - 200            257      489   \n",
            "1                                          200 - 400            128      257   \n",
            "2                                          400 - 600             78      118   \n",
            "3                                          600 - 800             24       66   \n",
            "4                                           800-1000             11       17   \n",
            "\n",
            "   40 - 60  60 - 80  80-100  \n",
            "0      511      477     475  \n",
            "1      235      234     236  \n",
            "2      150      128     128  \n",
            "3       68       63      53  \n",
            "4       25       17      19  \n"
          ]
        }
      ]
    },
    {
      "cell_type": "code",
      "source": [
        "# finding Midpoint and Differences for X columns\n",
        "def split_mean(x):\n",
        "  # split before and after the hyphen (-)\n",
        "  split_num = x.split(\"-\")\n",
        "  if len(split_num) == 2:\n",
        "     return (float(split_num[0])+float(split_num[1]))/2\n",
        "  else:\n",
        "     return float(x)\n",
        "\n",
        "row = []\n",
        "diff_x = []\n",
        "temp = mat[:,0]\n",
        "row_len = len(mat[:,0])\n",
        "for i in range(0,row_len):\n",
        "  row.append(split_mean(temp[i]))\n",
        "  split_num = temp[i].split(\"-\")\n",
        "  diff_x.append(float(split_num[1])-float(split_num[0]))\n",
        "  # print(temp[i])\n",
        "print(row)\n",
        "print(diff_x)"
      ],
      "metadata": {
        "id": "Vj_vDlk33HP6",
        "colab": {
          "base_uri": "https://localhost:8080/"
        },
        "outputId": "6e598539-f482-4ed1-804e-41f21fe149a8"
      },
      "execution_count": null,
      "outputs": [
        {
          "output_type": "stream",
          "name": "stdout",
          "text": [
            "[100.0, 300.0, 500.0, 700.0, 900.0]\n",
            "[200.0, 200.0, 200.0, 200.0, 200.0]\n"
          ]
        }
      ]
    },
    {
      "cell_type": "code",
      "source": [
        "# finding Midpoint and Differences for X columns\n",
        "\n",
        "# print(len(list(gr_data)))\n",
        "length = len(list(gr_data))\n",
        "list_col = (list(gr_data))\n",
        "col = []\n",
        "diff_y = []\n",
        "for i in range(1,length):\n",
        "  col.append(split_mean(list_col[i]))\n",
        "  split_num = list_col[i].split(\"-\")\n",
        "  diff_y.append(float(split_num[1])-float(split_num[0]))\n",
        "  # print(list_col[i])\n",
        "print(col)\n",
        "print(diff_y)"
      ],
      "metadata": {
        "id": "iSZl1lFi54O4",
        "colab": {
          "base_uri": "https://localhost:8080/"
        },
        "outputId": "9f22a42f-4d38-4889-ab59-8ee8f7ba6282"
      },
      "execution_count": null,
      "outputs": [
        {
          "output_type": "stream",
          "name": "stdout",
          "text": [
            "[10.0, 30.0, 50.0, 70.0, 90.0]\n",
            "[20.0, 20.0, 20.0, 20.0, 20.0]\n"
          ]
        }
      ]
    },
    {
      "cell_type": "code",
      "source": [
        "# Assumed value\n",
        "Ax = row[int((len(row)/2))]\n",
        "print(Ax)\n",
        "len_r = len(row)\n",
        "Ay = col[int((len(col)/2))]\n",
        "print(Ay)\n",
        "\n",
        "# Calculating Dx for rows\n",
        "dx = []\n",
        "for i in range(0,len_r):\n",
        "  dx.append((row[i]-Ax)/diff_x[i])\n",
        "\n",
        "# Calculating Dy for cols\n",
        "dy=[]\n",
        "for i in range(0,len_r):\n",
        "  dy.append((col[i]-Ay)/diff_y[i])\n",
        "\n",
        "print(dx)\n",
        "print(dy)"
      ],
      "metadata": {
        "id": "ZvEyoMVC6-r5",
        "colab": {
          "base_uri": "https://localhost:8080/"
        },
        "outputId": "a040ee6e-df7c-48e3-c0a5-af02f6b0a1dd"
      },
      "execution_count": null,
      "outputs": [
        {
          "output_type": "stream",
          "name": "stdout",
          "text": [
            "500.0\n",
            "50.0\n",
            "[-2.0, -1.0, 0.0, 1.0, 2.0]\n",
            "[-2.0, -1.0, 0.0, 1.0, 2.0]\n"
          ]
        }
      ]
    },
    {
      "cell_type": "code",
      "source": [
        "# calculating Frequency\n",
        "\n",
        "Fx = []\n",
        "Fy = []\n",
        "\n",
        "\n",
        "for i in range(0,len_r):\n",
        "  temp = mat[i,1:]\n",
        "  sum = 0\n",
        "  for j in temp:\n",
        "    sum = sum + j\n",
        "  Fx.append(sum)\n",
        "\n",
        "\n",
        "for i in range(1,length):\n",
        "  temp = mat[:,i]\n",
        "  # print(temp)\n",
        "  sum = 0\n",
        "  for j in temp:\n",
        "    sum = sum + j\n",
        "  Fy.append(sum)\n",
        "\n",
        "print(Fx)\n",
        "print(Fy)\n"
      ],
      "metadata": {
        "id": "Qk6FE2cc-TI2",
        "colab": {
          "base_uri": "https://localhost:8080/"
        },
        "outputId": "38cab985-17b2-4e49-c033-65b3f5a6d7a8"
      },
      "execution_count": null,
      "outputs": [
        {
          "output_type": "stream",
          "name": "stdout",
          "text": [
            "[2209, 1090, 602, 274, 89]\n",
            "[498, 947, 989, 919, 911]\n"
          ]
        }
      ]
    },
    {
      "cell_type": "code",
      "source": [
        "N = 0\n",
        "\n",
        "for i in Fx:\n",
        "  N = N + i\n",
        "print(N)"
      ],
      "metadata": {
        "id": "RjJ_oxNvH23i",
        "colab": {
          "base_uri": "https://localhost:8080/"
        },
        "outputId": "594f89c1-b179-4f6e-ea4a-a14e3e7ef769"
      },
      "execution_count": null,
      "outputs": [
        {
          "output_type": "stream",
          "name": "stdout",
          "text": [
            "4264\n"
          ]
        }
      ]
    },
    {
      "cell_type": "code",
      "source": [
        "F_dx = 0\n",
        "F_dx2 = 0\n",
        "F_dy = 0\n",
        "F_dy2 = 0\n",
        "\n",
        "# Calculating fdx for X columns\n",
        "for i in range(0,len_r):\n",
        "  fx = Fx[i]*dx[i]\n",
        "  fx2 = Fx[i]*dx[i]**2\n",
        "  F_dx = F_dx + fx\n",
        "  F_dx2 = F_dx2 + fx2\n",
        "print(F_dx,F_dx2)\n",
        "\n",
        "\n",
        "# calculating fdy for Y Columns\n",
        "for i in range(0,len_r):\n",
        "  fy = Fy[i]*dy[i]\n",
        "  fy2 = Fy[i]*dy[i]**2\n",
        "  F_dy = F_dy + fy\n",
        "  F_dy2 = F_dy2 + fy2\n",
        "print(F_dy,F_dy2)"
      ],
      "metadata": {
        "id": "2nDyQMnHEXpI",
        "colab": {
          "base_uri": "https://localhost:8080/"
        },
        "outputId": "471c1141-b481-4ed8-9e9a-5107ba98307f"
      },
      "execution_count": null,
      "outputs": [
        {
          "output_type": "stream",
          "name": "stdout",
          "text": [
            "-5056.0 10556.0\n",
            "798.0 7502.0\n"
          ]
        }
      ]
    },
    {
      "cell_type": "code",
      "source": [
        "# Calculating F_dx_dy\n",
        "F_dx_dy = 0\n",
        "\n",
        "for i in range(0,len_r):\n",
        "  fdxdy = Fx[i]*dx[i]*dy[i]\n",
        "  F_dx_dy = F_dx_dy + fdxdy\n",
        "print(F_dx_dy)"
      ],
      "metadata": {
        "id": "fHJMYrxmGnb1",
        "colab": {
          "base_uri": "https://localhost:8080/"
        },
        "outputId": "4e6ab6f4-a5ba-4db6-bfab-36932f16201b"
      },
      "execution_count": null,
      "outputs": [
        {
          "output_type": "stream",
          "name": "stdout",
          "text": [
            "10556.0\n"
          ]
        }
      ]
    },
    {
      "cell_type": "code",
      "source": [
        "r = (F_dx_dy - ((F_dx*F_dy)/N))/((F_dx-((pow(F_dx,2))/N))*(F_dy-((pow(F_dy,2))/N)))\n",
        "\n",
        "print('Pearsons correlation:' , r)\n",
        "\n",
        "if r > 0.75:\n",
        "  print(\"Highly Correlated\")\n",
        "elif 0.3 < r > 0.75:\n",
        "  print(\"Moderate Correlaton\")\n",
        "else:\n",
        "  print(\"Very low Correlation\")"
      ],
      "metadata": {
        "id": "1F1DX2iwHYo1",
        "colab": {
          "base_uri": "https://localhost:8080/"
        },
        "outputId": "fb9abe7b-6fc4-4afb-e546-4e67b817e79b"
      },
      "execution_count": null,
      "outputs": [
        {
          "output_type": "stream",
          "name": "stdout",
          "text": [
            "Pearsons correlation: -0.0016045811540962161\n",
            "Very low Correlation\n"
          ]
        }
      ]
    }
  ]
}