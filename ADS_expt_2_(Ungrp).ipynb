{
  "nbformat": 4,
  "nbformat_minor": 0,
  "metadata": {
    "colab": {
      "provenance": []
    },
    "kernelspec": {
      "name": "python3",
      "display_name": "Python 3"
    },
    "language_info": {
      "name": "python"
    }
  },
  "cells": [
    {
      "cell_type": "code",
      "execution_count": null,
      "metadata": {
        "id": "-iiuaGtvlAnJ"
      },
      "outputs": [],
      "source": [
        "import pandas as pd\n",
        "import numpy as np\n",
        "import statistics"
      ]
    },
    {
      "cell_type": "code",
      "source": [
        "Data = pd.read_csv(\"/content/dairy_dataset.csv\")\n",
        "\n",
        "Sample_Data = Data.sample(n=10)\n",
        "# Df = pd.DataFrame(Data)\n",
        "temp = Sample_Data.iloc[: ,9:12]\n",
        "\n",
        "print(temp)"
      ],
      "metadata": {
        "colab": {
          "base_uri": "https://localhost:8080/"
        },
        "id": "o6pozGvKqh_E",
        "outputId": "d229d0f1-873d-4140-c3eb-45a3f02d447f"
      },
      "execution_count": null,
      "outputs": [
        {
          "output_type": "stream",
          "name": "stdout",
          "text": [
            "      Price per Unit  Total Value  Shelf Life (days)\n",
            "4011           68.16   33367.0464                 10\n",
            "158            91.07   24800.1824                  7\n",
            "1496           67.82    8857.9702                 23\n",
            "3744           46.71    5693.4819                 29\n",
            "1392           83.67   15448.8288                 10\n",
            "1457           50.09   24475.9776                 56\n",
            "2967           74.41   38456.5762                 49\n",
            "845            30.34   11248.2516                 24\n",
            "2383           51.21   33000.7482                 27\n",
            "290            17.92    4768.8704                 32\n"
          ]
        }
      ]
    },
    {
      "cell_type": "markdown",
      "source": [
        "**Ungrouped  data**\n"
      ],
      "metadata": {
        "id": "eWbTqEdM6eck"
      }
    },
    {
      "cell_type": "code",
      "source": [
        "print(\"\\n\\n-------A.Computation Of Central Tendency ---------\")\n",
        "print(\"\\ni.Mean = \\n\",temp.mean())\n",
        "print(\"\\nii.Median = \\n\",temp.median())\n",
        "print(\"\\niii.Mode = \\n\",temp.mode())"
      ],
      "metadata": {
        "colab": {
          "base_uri": "https://localhost:8080/"
        },
        "id": "d6fA2JaXq6yY",
        "outputId": "f0a287f5-55b1-4c0f-8611-8d1653f198c4"
      },
      "execution_count": null,
      "outputs": [
        {
          "output_type": "stream",
          "name": "stdout",
          "text": [
            "\n",
            "\n",
            "-------A.Computation Of Central Tendency ---------\n",
            "\n",
            "i.Mean = \n",
            " Price per Unit          58.14000\n",
            "Total Value          20011.79337\n",
            "Shelf Life (days)       26.70000\n",
            "dtype: float64\n",
            "\n",
            "ii.Median = \n",
            " Price per Unit          59.5150\n",
            "Total Value          19962.4032\n",
            "Shelf Life (days)       25.5000\n",
            "dtype: float64\n",
            "\n",
            "iii.Mode = \n",
            "    Price per Unit  Total Value  Shelf Life (days)\n",
            "0           17.92    4768.8704               10.0\n",
            "1           30.34    5693.4819                NaN\n",
            "2           46.71    8857.9702                NaN\n",
            "3           50.09   11248.2516                NaN\n",
            "4           51.21   15448.8288                NaN\n",
            "5           67.82   24475.9776                NaN\n",
            "6           68.16   24800.1824                NaN\n",
            "7           74.41   33000.7482                NaN\n",
            "8           83.67   33367.0464                NaN\n",
            "9           91.07   38456.5762                NaN\n"
          ]
        }
      ]
    },
    {
      "cell_type": "code",
      "source": [
        "print(\"\\n\\n-------B.Computation of Dispersion ---------\")\n",
        "print(\"\\n\\n1.Range\")\n",
        "print(\"Range of Area Column: \",Sample_Data.iloc[: ,2].max()-Sample_Data.iloc[: ,2].min())\n",
        "print(\"Range of Yield Column: \",Sample_Data.iloc[: ,5].max()-Sample_Data.iloc[: ,5].min())\n"
      ],
      "metadata": {
        "colab": {
          "base_uri": "https://localhost:8080/"
        },
        "id": "031_e5eLrmHb",
        "outputId": "cb3e5324-dda4-4d69-cad9-a48e3262ef7c"
      },
      "execution_count": null,
      "outputs": [
        {
          "output_type": "stream",
          "name": "stdout",
          "text": [
            "\n",
            "\n",
            "-------B.Computation of Dispersion ---------\n",
            "\n",
            "\n",
            "1.Range\n",
            "Range of Area Column:  64\n",
            "Range of Yield Column:  8\n"
          ]
        }
      ]
    },
    {
      "cell_type": "code",
      "source": [
        "print(\"\\n\\n2.Variance: \\n\",temp.var())"
      ],
      "metadata": {
        "colab": {
          "base_uri": "https://localhost:8080/"
        },
        "id": "dqljtyOWym2e",
        "outputId": "7651951e-ed2d-48ea-a68a-b8cd57640e06"
      },
      "execution_count": null,
      "outputs": [
        {
          "output_type": "stream",
          "name": "stdout",
          "text": [
            "\n",
            "\n",
            "2.Variance: \n",
            " Price per Unit       5.365491e+02\n",
            "Total Value          1.543925e+08\n",
            "Shelf Life (days)    2.617889e+02\n",
            "dtype: float64\n"
          ]
        }
      ]
    },
    {
      "cell_type": "code",
      "source": [
        "print(\"\\n\\n3.Standard Deviation \\n\",temp.std())"
      ],
      "metadata": {
        "colab": {
          "base_uri": "https://localhost:8080/"
        },
        "id": "wOQ2waDFzAKB",
        "outputId": "487adbb1-3078-4cb7-a726-816e68efbb56"
      },
      "execution_count": null,
      "outputs": [
        {
          "output_type": "stream",
          "name": "stdout",
          "text": [
            "\n",
            "\n",
            "3.Standard Deviation \n",
            " Price per Unit          23.163530\n",
            "Total Value          12425.476429\n",
            "Shelf Life (days)       16.179891\n",
            "dtype: float64\n"
          ]
        }
      ]
    },
    {
      "cell_type": "code",
      "source": [
        "print(\"\\n\\n-------3.Computation Skewness ---------\")\n",
        "print(\"\\n\\nSkewness: \\n\",temp.skew())"
      ],
      "metadata": {
        "colab": {
          "base_uri": "https://localhost:8080/"
        },
        "id": "AKgMllOszC4O",
        "outputId": "98c75592-8299-484c-e5ba-6245eb517d27"
      },
      "execution_count": null,
      "outputs": [
        {
          "output_type": "stream",
          "name": "stdout",
          "text": [
            "\n",
            "\n",
            "-------3.Computation Skewness ---------\n",
            "\n",
            "\n",
            "Skewness: \n",
            " Price per Unit      -0.338896\n",
            "Total Value          0.174812\n",
            "Shelf Life (days)    0.635265\n",
            "dtype: float64\n"
          ]
        }
      ]
    }
  ]
}