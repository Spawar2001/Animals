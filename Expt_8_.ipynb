{
  "nbformat": 4,
  "nbformat_minor": 0,
  "metadata": {
    "colab": {
      "provenance": []
    },
    "kernelspec": {
      "name": "python3",
      "display_name": "Python 3"
    },
    "language_info": {
      "name": "python"
    }
  },
  "cells": [
    {
      "cell_type": "code",
      "execution_count": null,
      "metadata": {
        "id": "pnR_GsH6i5L0"
      },
      "outputs": [],
      "source": [
        "import pandas as pd"
      ]
    },
    {
      "cell_type": "code",
      "source": [
        "df = pd.read_csv(\"/content/Smote_dairy_dataset.csv\")"
      ],
      "metadata": {
        "id": "E3prAnFpjBby"
      },
      "execution_count": null,
      "outputs": []
    },
    {
      "cell_type": "code",
      "source": [
        "df['New Farm Size'] = df['Farm Size'].apply(lambda x: 0 if x == \"Small\" else 1)"
      ],
      "metadata": {
        "id": "raaq93wi4qpJ"
      },
      "execution_count": null,
      "outputs": []
    },
    {
      "cell_type": "code",
      "source": [
        "print(df.info())"
      ],
      "metadata": {
        "id": "SkZCLjlK6hT2",
        "colab": {
          "base_uri": "https://localhost:8080/"
        },
        "outputId": "c1c677e3-beb9-4f88-9029-ea49b2d53cdc"
      },
      "execution_count": null,
      "outputs": [
        {
          "output_type": "stream",
          "name": "stdout",
          "text": [
            "<class 'pandas.core.frame.DataFrame'>\n",
            "RangeIndex: 4325 entries, 0 to 4324\n",
            "Data columns (total 25 columns):\n",
            " #   Column                               Non-Null Count  Dtype  \n",
            "---  ------                               --------------  -----  \n",
            " 0   Unnamed: 0                           4325 non-null   int64  \n",
            " 1   Location                             4325 non-null   object \n",
            " 2   Total Land Area (acres)              4325 non-null   float64\n",
            " 3   Number of Cows                       4325 non-null   int64  \n",
            " 4   Farm Size                            4325 non-null   object \n",
            " 5   Date                                 4325 non-null   object \n",
            " 6   Product ID                           4325 non-null   int64  \n",
            " 7   Product Name                         4325 non-null   object \n",
            " 8   Brand                                4325 non-null   object \n",
            " 9   Quantity (liters/kg)                 4325 non-null   float64\n",
            " 10  Price per Unit                       4325 non-null   float64\n",
            " 11  Total Value                          4325 non-null   float64\n",
            " 12  Shelf Life (days)                    4325 non-null   int64  \n",
            " 13  Storage Condition                    4325 non-null   object \n",
            " 14  Production Date                      4325 non-null   object \n",
            " 15  Expiration Date                      4325 non-null   object \n",
            " 16  Quantity Sold (liters/kg)            4325 non-null   int64  \n",
            " 17  Price per Unit (sold)                4325 non-null   float64\n",
            " 18  Approx. Total Revenue(INR)           4325 non-null   float64\n",
            " 19  Customer Location                    4325 non-null   object \n",
            " 20  Sales Channel                        4325 non-null   object \n",
            " 21  Quantity in Stock (liters/kg)        4325 non-null   int64  \n",
            " 22  Minimum Stock Threshold (liters/kg)  4325 non-null   float64\n",
            " 23  Reorder Quantity (liters/kg)         4325 non-null   float64\n",
            " 24  New Farm Size                        4325 non-null   int64  \n",
            "dtypes: float64(8), int64(7), object(10)\n",
            "memory usage: 844.9+ KB\n",
            "None\n"
          ]
        }
      ]
    },
    {
      "cell_type": "code",
      "source": [
        "X = df.iloc[:,22:-1]\n",
        "y = df.iloc[:,-1]\n",
        "y"
      ],
      "metadata": {
        "id": "Bu5uFifKl9n7",
        "colab": {
          "base_uri": "https://localhost:8080/"
        },
        "outputId": "d00850ed-f485-44ad-d056-aa359f0488ac"
      },
      "execution_count": null,
      "outputs": [
        {
          "output_type": "execute_result",
          "data": {
            "text/plain": [
              "0       1\n",
              "1       1\n",
              "2       1\n",
              "3       0\n",
              "4       1\n",
              "       ..\n",
              "4320    1\n",
              "4321    1\n",
              "4322    0\n",
              "4323    0\n",
              "4324    1\n",
              "Name: New Farm Size, Length: 4325, dtype: int64"
            ]
          },
          "metadata": {},
          "execution_count": 14
        }
      ]
    },
    {
      "cell_type": "code",
      "source": [
        "from sklearn.model_selection import train_test_split\n",
        "from imblearn.over_sampling import SMOTE\n",
        "\n",
        "\n",
        " # split into 70:30 ration\n",
        "X_train, X_test, y_train, y_test = train_test_split(X, y, test_size = 0.3, random_state = 0)\n",
        "\n",
        "# describes info about train and test set\n",
        "print(\"Number transactions X_train dataset: \", X_train.shape)\n",
        "print(\"Number transactions y_train dataset: \", y_train.shape)\n",
        "print(\"Number transactions X_test dataset: \", X_test.shape)\n",
        "print(\"Number transactions y_test dataset: \", y_test.shape)"
      ],
      "metadata": {
        "colab": {
          "base_uri": "https://localhost:8080/"
        },
        "id": "srQfC6o6kXZa",
        "outputId": "98725b31-c7a1-42cb-e76d-9faf564b7bcf"
      },
      "execution_count": null,
      "outputs": [
        {
          "output_type": "stream",
          "name": "stdout",
          "text": [
            "Number transactions X_train dataset:  (3027, 2)\n",
            "Number transactions y_train dataset:  (3027,)\n",
            "Number transactions X_test dataset:  (1298, 2)\n",
            "Number transactions y_test dataset:  (1298,)\n"
          ]
        }
      ]
    },
    {
      "cell_type": "code",
      "source": [
        "# df.to_csv(\"Smote_dairy_dataset.csv\")"
      ],
      "metadata": {
        "id": "CLvW9orx3kVR"
      },
      "execution_count": null,
      "outputs": []
    },
    {
      "cell_type": "code",
      "source": [
        "print(\"Before OverSampling, counts of label '1': {}\".format(sum(y_train == 1)))\n",
        "print(\"Before OverSampling, counts of label '0': {} \\n\".format(sum(y_train == 0)))\n",
        "\n",
        "from imblearn.over_sampling import SMOTE\n",
        "# pip install imblearn (if you don't have imblearn in your system)\n",
        "# from imblearn.over_sampling import SMOTE\n",
        "sm = SMOTE(random_state = 2)\n",
        "X_train_res, y_train_res = sm.fit_resample(X_train, y_train)\n",
        "\n",
        "print('After OverSampling, the shape of train_X: {}'.format(X_train_res.shape))\n",
        "print('After OverSampling, the shape of train_y: {} \\n'.format(y_train_res.shape))\n",
        "\n",
        "print(\"After OverSampling, counts of label '1': {}\".format(sum(y_train_res == 1)))\n",
        "print(\"After OverSampling, counts of label '0': {}\".format(sum(y_train_res == 0)))\n"
      ],
      "metadata": {
        "colab": {
          "base_uri": "https://localhost:8080/"
        },
        "id": "rsweDllW5SFf",
        "outputId": "e7a647ff-f2f5-4386-8664-7894bb4bb034"
      },
      "execution_count": null,
      "outputs": [
        {
          "output_type": "stream",
          "name": "stdout",
          "text": [
            "Before OverSampling, counts of label '1': 2053\n",
            "Before OverSampling, counts of label '0': 974 \n",
            "\n",
            "After OverSampling, the shape of train_X: (4106, 2)\n",
            "After OverSampling, the shape of train_y: (4106,) \n",
            "\n",
            "After OverSampling, counts of label '1': 2053\n",
            "After OverSampling, counts of label '0': 2053\n"
          ]
        }
      ]
    },
    {
      "cell_type": "code",
      "source": [
        "#Before\n",
        "Before_Label_0 = sum(y_train == 0)\n",
        "Before_Label_1 = sum(y_train == 1)\n",
        "\n",
        "#After\n",
        "After_Label_0 = sum(y_train_res == 0)\n",
        "After_Label_1 = sum(y_train_res == 1)\n",
        "\n",
        "print(\"Before: \",Before_Label_0,Before_Label_1,\"\\nAfter :\",After_Label_0,After_Label_1)"
      ],
      "metadata": {
        "colab": {
          "base_uri": "https://localhost:8080/"
        },
        "id": "5KD9F5Pa7mPW",
        "outputId": "5196fb00-efd7-4ca4-d18a-b451dcf0bdd5"
      },
      "execution_count": null,
      "outputs": [
        {
          "output_type": "stream",
          "name": "stdout",
          "text": [
            "Before:  974 2053 \n",
            "After : 2053 2053\n"
          ]
        }
      ]
    },
    {
      "cell_type": "code",
      "source": [
        "\n",
        "import numpy as np\n",
        "import matplotlib.pyplot as plt\n",
        "\n",
        "\n",
        "# creating the dataset\n",
        "data = {'0':Before_Label_0, '1':Before_Label_1}\n",
        "courses = list(data.keys())\n",
        "values = list(data.values())\n",
        "\n",
        "# fig = plt.figure()\n",
        "\n",
        "# creating the bar plot\n",
        "plt.bar(courses, values, color ='green',\n",
        "        width = 0.4)\n",
        "\n",
        "plt.xlabel(\"Farm Size\")\n",
        "plt.ylabel(\"Counts\")\n",
        "plt.title(\"After Smote Technique\")\n",
        "# plt.legend()\n",
        "plt.show()"
      ],
      "metadata": {
        "colab": {
          "base_uri": "https://localhost:8080/",
          "height": 472
        },
        "id": "WKeyhLIhDtRV",
        "outputId": "bec7da36-818b-43f4-b774-5d1c020362c9"
      },
      "execution_count": null,
      "outputs": [
        {
          "output_type": "display_data",
          "data": {
            "text/plain": [
              "<Figure size 640x480 with 1 Axes>"
            ],
            "image/png": "[encoded data removed]"
          },
          "metadata": {}
        }
      ]
    },
    {
      "cell_type": "code",
      "source": [
        "# Visualization  After\n",
        "import numpy as np\n",
        "import matplotlib.pyplot as plt\n",
        "\n",
        "\n",
        "# creating the dataset\n",
        "data = {'0':After_Label_0, '1':After_Label_1}\n",
        "courses = list(data.keys())\n",
        "values = list(data.values())\n",
        "\n",
        "# fig = plt.figure()\n",
        "\n",
        "# creating the bar plot\n",
        "plt.bar(courses, values, color ='red',\n",
        "        width = 0.4)\n",
        "\n",
        "plt.xlabel(\"New Farm Size\")\n",
        "plt.ylabel(\"Counts\")\n",
        "plt.title(\"After Smote Technique\")\n",
        "# plt.legend()\n",
        "plt.show()"
      ],
      "metadata": {
        "colab": {
          "base_uri": "https://localhost:8080/",
          "height": 472
        },
        "id": "Quw1jfZg7FQz",
        "outputId": "2bdab74e-40d8-4891-c46a-80eb8c9a3b12"
      },
      "execution_count": null,
      "outputs": [
        {
          "output_type": "display_data",
          "data": {
            "text/plain": [
              "<Figure size 640x480 with 1 Axes>"
            ],
            "image/png": "[encoded data removed]"
          },
          "metadata": {}
        }
      ]
    }
  ]
}