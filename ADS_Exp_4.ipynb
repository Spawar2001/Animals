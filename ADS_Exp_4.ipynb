{
  "nbformat": 4,
  "nbformat_minor": 0,
  "metadata": {
    "colab": {
      "provenance": []
    },
    "kernelspec": {
      "name": "python3",
      "display_name": "Python 3"
    },
    "language_info": {
      "name": "python"
    }
  },
  "cells": [
    {
      "cell_type": "markdown",
      "source": [
        "# **Experiment 4: Data Imputation**"
      ],
      "metadata": {
        "id": "w9p3I-kLOfhg"
      }
    },
    {
      "cell_type": "code",
      "execution_count": null,
      "metadata": {
        "id": "8K-kyApoOTwf"
      },
      "outputs": [],
      "source": [
        "import numpy as np\n",
        "import pandas as pd\n"
      ]
    },
    {
      "cell_type": "code",
      "source": [
        "Data = pd.read_csv(\"/content/Mising_data_shubham.csv\")\n",
        "# print(Data)"
      ],
      "metadata": {
        "id": "Stnfs3ngPHbQ"
      },
      "execution_count": null,
      "outputs": []
    },
    {
      "cell_type": "code",
      "source": [
        "Missing_column = Data.iloc[:,8]\n",
        "print(Missing_column)"
      ],
      "metadata": {
        "colab": {
          "base_uri": "https://localhost:8080/"
        },
        "id": "BVo8-7aOQodd",
        "outputId": "43001c24-1813-4bff-caf6-252fc26b95ff"
      },
      "execution_count": null,
      "outputs": [
        {
          "output_type": "stream",
          "name": "stdout",
          "text": [
            "0    222.40\n",
            "1    687.48\n",
            "2       NaN\n",
            "3    823.36\n",
            "4    147.77\n",
            "5    593.92\n",
            "6       NaN\n",
            "7    203.36\n",
            "8    949.12\n",
            "9    203.36\n",
            "Name: Quantity (liters/kg), dtype: float64\n"
          ]
        }
      ]
    },
    {
      "cell_type": "markdown",
      "source": [
        "**Filling with Next Values**"
      ],
      "metadata": {
        "id": "nJzYTM7wR_4k"
      }
    },
    {
      "cell_type": "code",
      "source": [
        "next_val = Missing_column.fillna(method ='bfill')\n",
        "print(next_val)"
      ],
      "metadata": {
        "id": "qEveojEaR_EZ",
        "colab": {
          "base_uri": "https://localhost:8080/"
        },
        "outputId": "ac00630c-3ee8-494e-8128-fcf4ed71660a"
      },
      "execution_count": null,
      "outputs": [
        {
          "output_type": "stream",
          "name": "stdout",
          "text": [
            "0    222.40\n",
            "1    687.48\n",
            "2    823.36\n",
            "3    823.36\n",
            "4    147.77\n",
            "5    593.92\n",
            "6    203.36\n",
            "7    203.36\n",
            "8    949.12\n",
            "9    203.36\n",
            "Name: Quantity (liters/kg), dtype: float64\n"
          ]
        }
      ]
    },
    {
      "cell_type": "markdown",
      "source": [
        "**Filling with Previous Values**"
      ],
      "metadata": {
        "id": "_aX6uJLyt65y"
      }
    },
    {
      "cell_type": "code",
      "source": [
        "prev_val = Missing_column.fillna(method ='ffill')\n",
        "print(prev_val)"
      ],
      "metadata": {
        "id": "6w3drqklTu0k",
        "colab": {
          "base_uri": "https://localhost:8080/"
        },
        "outputId": "0391b7e0-541a-469d-9f72-580385427636"
      },
      "execution_count": null,
      "outputs": [
        {
          "output_type": "stream",
          "name": "stdout",
          "text": [
            "0    222.40\n",
            "1    687.48\n",
            "2    687.48\n",
            "3    823.36\n",
            "4    147.77\n",
            "5    593.92\n",
            "6    593.92\n",
            "7    203.36\n",
            "8    949.12\n",
            "9    203.36\n",
            "Name: Quantity (liters/kg), dtype: float64\n"
          ]
        }
      ]
    },
    {
      "cell_type": "markdown",
      "source": [
        "**Fixed Values**"
      ],
      "metadata": {
        "id": "kkvOo93UWXjy"
      }
    },
    {
      "cell_type": "code",
      "source": [
        "Fix = 200\n",
        "Fixed = Missing_column.replace(to_replace = np.nan, value = Fix)\n",
        "print(Fixed)\n"
      ],
      "metadata": {
        "id": "dx3naTZAV2Gb",
        "colab": {
          "base_uri": "https://localhost:8080/"
        },
        "outputId": "94094c00-833e-4cf3-e0a7-62187c0c1bf1"
      },
      "execution_count": null,
      "outputs": [
        {
          "output_type": "stream",
          "name": "stdout",
          "text": [
            "0    222.40\n",
            "1    687.48\n",
            "2    200.00\n",
            "3    823.36\n",
            "4    147.77\n",
            "5    593.92\n",
            "6    200.00\n",
            "7    203.36\n",
            "8    949.12\n",
            "9    203.36\n",
            "Name: Quantity (liters/kg), dtype: float64\n"
          ]
        }
      ]
    },
    {
      "cell_type": "markdown",
      "source": [
        "**By Using Interpolate**"
      ],
      "metadata": {
        "id": "eRFAqCL6m0nP"
      }
    },
    {
      "cell_type": "code",
      "source": [
        "# to interpolate the missing values\n",
        "interpolate = Missing_column.interpolate(method ='linear', limit_direction ='forward')\n",
        "print(interpolate)"
      ],
      "metadata": {
        "colab": {
          "base_uri": "https://localhost:8080/"
        },
        "id": "1UYndBcMWdn5",
        "outputId": "90561801-1b4e-460d-8985-d8b5851a4280"
      },
      "execution_count": null,
      "outputs": [
        {
          "output_type": "stream",
          "name": "stdout",
          "text": [
            "0    222.40\n",
            "1    687.48\n",
            "2    755.42\n",
            "3    823.36\n",
            "4    147.77\n",
            "5    593.92\n",
            "6    398.64\n",
            "7    203.36\n",
            "8    949.12\n",
            "9    203.36\n",
            "Name: Quantity (liters/kg), dtype: float64\n"
          ]
        }
      ]
    },
    {
      "cell_type": "markdown",
      "source": [
        "## **KNN **"
      ],
      "metadata": {
        "id": "7CujhTLgb9tw"
      }
    },
    {
      "cell_type": "code",
      "source": [
        "!pip install sklearn\n",
        "\n",
        "from sklearn.impute import KNNImputer\n",
        "temp = Data.iloc[:,8:9]\n",
        "imputer = KNNImputer(n_neighbors=2)\n",
        "\n",
        "After_imputation = imputer.fit_transform(temp)\n",
        "\n",
        "print(\" performing imputation\\n\",After_imputation)"
      ],
      "metadata": {
        "colab": {
          "base_uri": "https://localhost:8080/"
        },
        "id": "TLvD8xuGZDCi",
        "outputId": "bbf73643-ff6e-411a-e991-7e27ba9ef249"
      },
      "execution_count": null,
      "outputs": [
        {
          "output_type": "stream",
          "name": "stdout",
          "text": [
            "Collecting sklearn\n",
            "  Downloading sklearn-0.0.post12.tar.gz (2.6 kB)\n",
            "  \u001b[1;31merror\u001b[0m: \u001b[1msubprocess-exited-with-error\u001b[0m\n",
            "  \n",
            "  \u001b[31m×\u001b[0m \u001b[32mpython setup.py egg_info\u001b[0m did not run successfully.\n",
            "  \u001b[31m│\u001b[0m exit code: \u001b[1;36m1\u001b[0m\n",
            "  \u001b[31m╰─>\u001b[0m See above for output.\n",
            "  \n",
            "  \u001b[1;35mnote\u001b[0m: This error originates from a subprocess, and is likely not a problem with pip.\n",
            "  Preparing metadata (setup.py) ... \u001b[?25l\u001b[?25herror\n",
            "\u001b[1;31merror\u001b[0m: \u001b[1mmetadata-generation-failed\u001b[0m\n",
            "\n",
            "\u001b[31m×\u001b[0m Encountered error while generating package metadata.\n",
            "\u001b[31m╰─>\u001b[0m See above for output.\n",
            "\n",
            "\u001b[1;35mnote\u001b[0m: This is an issue with the package mentioned above, not pip.\n",
            "\u001b[1;36mhint\u001b[0m: See above for details.\n",
            " performing imputation\n",
            " [[222.4    ]\n",
            " [687.48   ]\n",
            " [478.84625]\n",
            " [823.36   ]\n",
            " [147.77   ]\n",
            " [593.92   ]\n",
            " [478.84625]\n",
            " [203.36   ]\n",
            " [949.12   ]\n",
            " [203.36   ]]\n"
          ]
        }
      ]
    },
    {
      "cell_type": "markdown",
      "source": [
        "**Replacing with Mean**"
      ],
      "metadata": {
        "id": "soxP-HKcnQpa"
      }
    },
    {
      "cell_type": "code",
      "source": [
        "from sklearn.impute import SimpleImputer\n",
        "\n",
        "imputer = SimpleImputer(missing_values=np.nan, strategy='mean')\n",
        "temp = Data.iloc[:,8:9]\n",
        "miss_mean_imputer = imputer.fit(temp)\n",
        "imputed_df = miss_mean_imputer.transform(temp.values)\n",
        "print(imputed_df)"
      ],
      "metadata": {
        "id": "BHC0DjHSb8wJ",
        "colab": {
          "base_uri": "https://localhost:8080/"
        },
        "outputId": "b512ee14-65e0-4d58-aabe-1f4417ad19e2"
      },
      "execution_count": null,
      "outputs": [
        {
          "output_type": "stream",
          "name": "stdout",
          "text": [
            "[[222.4    ]\n",
            " [687.48   ]\n",
            " [478.84625]\n",
            " [823.36   ]\n",
            " [147.77   ]\n",
            " [593.92   ]\n",
            " [478.84625]\n",
            " [203.36   ]\n",
            " [949.12   ]\n",
            " [203.36   ]]\n"
          ]
        },
        {
          "output_type": "stream",
          "name": "stderr",
          "text": [
            "/usr/local/lib/python3.10/dist-packages/sklearn/base.py:439: UserWarning: X does not have valid feature names, but SimpleImputer was fitted with feature names\n",
            "  warnings.warn(\n"
          ]
        }
      ]
    },
    {
      "cell_type": "markdown",
      "source": [
        "**Replacing with Median**"
      ],
      "metadata": {
        "id": "sVyoPL4WrDuc"
      }
    },
    {
      "cell_type": "code",
      "source": [
        "from sklearn.impute import SimpleImputer\n",
        "\n",
        "imputer = SimpleImputer(missing_values=np.nan, strategy='median')\n",
        "temp = Data.iloc[:,8:9]\n",
        "miss_mean_imputer = imputer.fit(temp)\n",
        "imputed_df = miss_mean_imputer.transform(temp.values)\n",
        "print(imputed_df)"
      ],
      "metadata": {
        "colab": {
          "base_uri": "https://localhost:8080/"
        },
        "id": "KZLwGTs4q5qJ",
        "outputId": "765c0e49-3e46-4da8-a86a-522eb3a91353"
      },
      "execution_count": null,
      "outputs": [
        {
          "output_type": "stream",
          "name": "stdout",
          "text": [
            "[[222.4 ]\n",
            " [687.48]\n",
            " [408.16]\n",
            " [823.36]\n",
            " [147.77]\n",
            " [593.92]\n",
            " [408.16]\n",
            " [203.36]\n",
            " [949.12]\n",
            " [203.36]]\n"
          ]
        },
        {
          "output_type": "stream",
          "name": "stderr",
          "text": [
            "/usr/local/lib/python3.10/dist-packages/sklearn/base.py:439: UserWarning: X does not have valid feature names, but SimpleImputer was fitted with feature names\n",
            "  warnings.warn(\n"
          ]
        }
      ]
    },
    {
      "cell_type": "markdown",
      "source": [
        "**Replacing with most Frequent Ones**"
      ],
      "metadata": {
        "id": "iEb9TQKKrsGb"
      }
    },
    {
      "cell_type": "code",
      "source": [
        "from sklearn.impute import SimpleImputer\n",
        "\n",
        "imputer = SimpleImputer(missing_values=np.nan, strategy='most_frequent')\n",
        "temp = Data.iloc[:,8:9]\n",
        "miss_mean_imputer = imputer.fit(temp)\n",
        "imputed_df = miss_mean_imputer.transform(temp.values)\n",
        "print(imputed_df)"
      ],
      "metadata": {
        "colab": {
          "base_uri": "https://localhost:8080/"
        },
        "id": "9hFZziOprTgw",
        "outputId": "e666bf2a-2888-4395-fa57-0a9677bea90c"
      },
      "execution_count": null,
      "outputs": [
        {
          "output_type": "stream",
          "name": "stdout",
          "text": [
            "[[222.4 ]\n",
            " [687.48]\n",
            " [203.36]\n",
            " [823.36]\n",
            " [147.77]\n",
            " [593.92]\n",
            " [203.36]\n",
            " [203.36]\n",
            " [949.12]\n",
            " [203.36]]\n"
          ]
        },
        {
          "output_type": "stream",
          "name": "stderr",
          "text": [
            "/usr/local/lib/python3.10/dist-packages/sklearn/base.py:439: UserWarning: X does not have valid feature names, but SimpleImputer was fitted with feature names\n",
            "  warnings.warn(\n"
          ]
        }
      ]
    },
    {
      "cell_type": "markdown",
      "source": [
        "**Replacing with Minimum Value**"
      ],
      "metadata": {
        "id": "ou4WtPMQs9u5"
      }
    },
    {
      "cell_type": "code",
      "source": [
        "Min = Missing_column.replace(to_replace = np.nan, value = Missing_column.min())\n",
        "print(Min)"
      ],
      "metadata": {
        "colab": {
          "base_uri": "https://localhost:8080/"
        },
        "id": "5k3iu_WFrTdz",
        "outputId": "a79dca76-b2c8-483a-a7cd-69cf16313ea0"
      },
      "execution_count": null,
      "outputs": [
        {
          "output_type": "stream",
          "name": "stdout",
          "text": [
            "0    222.40\n",
            "1    687.48\n",
            "2    147.77\n",
            "3    823.36\n",
            "4    147.77\n",
            "5    593.92\n",
            "6    147.77\n",
            "7    203.36\n",
            "8    949.12\n",
            "9    203.36\n",
            "Name: Quantity (liters/kg), dtype: float64\n"
          ]
        }
      ]
    },
    {
      "cell_type": "markdown",
      "source": [
        " **Replacing with Maximum**"
      ],
      "metadata": {
        "id": "hliDG2jitHCE"
      }
    },
    {
      "cell_type": "code",
      "source": [
        "Max = Missing_column.replace(to_replace = np.nan, value = Missing_column.max())\n",
        "print(Max)"
      ],
      "metadata": {
        "colab": {
          "base_uri": "https://localhost:8080/"
        },
        "id": "9AvxHXu1s2dT",
        "outputId": "a5b5b3b8-c396-4cac-8781-4ff9ffcb8c90"
      },
      "execution_count": null,
      "outputs": [
        {
          "output_type": "stream",
          "name": "stdout",
          "text": [
            "0    222.40\n",
            "1    687.48\n",
            "2    949.12\n",
            "3    823.36\n",
            "4    147.77\n",
            "5    593.92\n",
            "6    949.12\n",
            "7    203.36\n",
            "8    949.12\n",
            "9    203.36\n",
            "Name: Quantity (liters/kg), dtype: float64\n"
          ]
        }
      ]
    }
  ]
}