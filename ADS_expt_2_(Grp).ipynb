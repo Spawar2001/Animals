{
  "nbformat": 4,
  "nbformat_minor": 0,
  "metadata": {
    "colab": {
      "provenance": []
    },
    "kernelspec": {
      "name": "python3",
      "display_name": "Python 3"
    },
    "language_info": {
      "name": "python"
    }
  },
  "cells": [
    {
      "cell_type": "code",
      "execution_count": null,
      "metadata": {
        "id": "y1ZrHwZvAYKA"
      },
      "outputs": [],
      "source": [
        "import pandas as pd\n",
        "import numpy as np\n",
        "import statistics"
      ]
    },
    {
      "cell_type": "code",
      "source": [
        "df = pd.read_csv(\"/content/dairy_dataset.csv\")\n",
        "print(df)"
      ],
      "metadata": {
        "colab": {
          "base_uri": "https://localhost:8080/"
        },
        "id": "goiTe5-uBmiB",
        "outputId": "221166e6-6cb1-4993-a265-07b1f884c8b5"
      },
      "execution_count": null,
      "outputs": [
        {
          "output_type": "stream",
          "name": "stdout",
          "text": [
            "           Location  Total Land Area (acres)  Number of Cows Farm Size  \\\n",
            "0         Telangana                   310.84              96    Medium   \n",
            "1     Uttar Pradesh                    19.19              44     Large   \n",
            "2        Tamil Nadu                   581.69              24    Medium   \n",
            "3         Telangana                   908.00              89     Small   \n",
            "4       Maharashtra                   861.95              21    Medium   \n",
            "...             ...                      ...             ...       ...   \n",
            "4320          Delhi                   748.71              89    Medium   \n",
            "4321      Jharkhand                   385.91              29     Large   \n",
            "4322     Chandigarh                   311.54              65     Small   \n",
            "4323    Maharashtra                   890.55              90     Small   \n",
            "4324      Rajasthan                   492.86              58     Large   \n",
            "\n",
            "            Date  Product ID Product Name                 Brand  \\\n",
            "0     2022-02-17           5    Ice Cream           Dodla Dairy   \n",
            "1     2021-12-01           1         Milk                  Amul   \n",
            "2     2022-02-28           4       Yogurt           Dodla Dairy   \n",
            "3     2019-06-09           3       Cheese  Britannia Industries   \n",
            "4     2020-12-14           8   Buttermilk          Mother Dairy   \n",
            "...          ...         ...          ...                   ...   \n",
            "4320  2022-02-24           6         Curd          Mother Dairy   \n",
            "4321  2022-05-14           4       Yogurt          Palle2patnam   \n",
            "4322  2020-01-05           6         Curd          Mother Dairy   \n",
            "4323  2022-10-25           6         Curd                   Raj   \n",
            "4324  2019-01-20           1         Milk          Mother Dairy   \n",
            "\n",
            "      Quantity (liters/kg)  Price per Unit  ...  Production Date  \\\n",
            "0                   222.40           85.72  ...       2021-12-27   \n",
            "1                   687.48           42.61  ...       2021-10-03   \n",
            "2                   503.48           36.50  ...       2022-01-14   \n",
            "3                   823.36           26.52  ...       2019-05-15   \n",
            "4                   147.77           83.85  ...       2020-10-17   \n",
            "...                    ...             ...  ...              ...   \n",
            "4320                554.90           88.45  ...       2022-02-16   \n",
            "4321                818.33           55.35  ...       2022-03-22   \n",
            "4322                583.56           92.61  ...       2020-01-04   \n",
            "4323                  3.10           15.30  ...       2022-10-02   \n",
            "4324                820.50           49.31  ...       2019-01-06   \n",
            "\n",
            "      Expiration Date Quantity Sold (liters/kg) Price per Unit (sold)  \\\n",
            "0          2022-01-21                         7                 82.24   \n",
            "1          2021-10-25                       558                 39.24   \n",
            "2          2022-02-13                       256                 33.81   \n",
            "3          2019-07-26                       601                 28.92   \n",
            "4          2020-10-28                       145                 83.07   \n",
            "...               ...                       ...                   ...   \n",
            "4320       2022-02-21                       352                 87.20   \n",
            "4321       2022-04-14                        68                 58.39   \n",
            "4322       2020-01-11                       141                 89.46   \n",
            "4323       2022-10-09                         2                 10.56   \n",
            "4324       2019-01-07                       417                 44.55   \n",
            "\n",
            "     Approx. Total Revenue(INR)  Customer Location  Sales Channel  \\\n",
            "0                        575.68     Madhya Pradesh      Wholesale   \n",
            "1                      21895.92             Kerala      Wholesale   \n",
            "2                       8655.36     Madhya Pradesh         Online   \n",
            "3                      17380.92          Rajasthan         Online   \n",
            "4                      12045.15          Jharkhand         Retail   \n",
            "...                         ...                ...            ...   \n",
            "4320                   30694.40      Uttar Pradesh         Online   \n",
            "4321                    3970.52             Kerala         Retail   \n",
            "4322                   12613.86            Haryana         Retail   \n",
            "4323                      21.12          Jharkhand      Wholesale   \n",
            "4324                   18577.35     Madhya Pradesh         Online   \n",
            "\n",
            "      Quantity in Stock (liters/kg) Minimum Stock Threshold (liters/kg)  \\\n",
            "0                               215                               19.55   \n",
            "1                               129                               43.17   \n",
            "2                               247                               15.10   \n",
            "3                               222                               74.50   \n",
            "4                                 2                               76.02   \n",
            "...                             ...                                 ...   \n",
            "4320                            202                               98.07   \n",
            "4321                            750                               87.41   \n",
            "4322                            442                               33.47   \n",
            "4323                              1                               58.25   \n",
            "4324                            403                               22.34   \n",
            "\n",
            "     Reorder Quantity (liters/kg)  \n",
            "0                           64.03  \n",
            "1                          181.10  \n",
            "2                          140.83  \n",
            "3                           57.68  \n",
            "4                           33.40  \n",
            "...                           ...  \n",
            "4320                        33.53  \n",
            "4321                       114.37  \n",
            "4322                       153.66  \n",
            "4323                       160.84  \n",
            "4324                       189.63  \n",
            "\n",
            "[4325 rows x 23 columns]\n"
          ]
        }
      ]
    },
    {
      "cell_type": "code",
      "source": [
        "temp = df['Quantity Sold (liters/kg)'][1:11]\n",
        "temp"
      ],
      "metadata": {
        "colab": {
          "base_uri": "https://localhost:8080/"
        },
        "id": "xtO335-dCM7L",
        "outputId": "a0580be9-96ab-4407-e665-4e1d058895d9"
      },
      "execution_count": null,
      "outputs": [
        {
          "output_type": "execute_result",
          "data": {
            "text/plain": [
              "1     558\n",
              "2     256\n",
              "3     601\n",
              "4     145\n",
              "5      74\n",
              "6     410\n",
              "7      15\n",
              "8     860\n",
              "9     108\n",
              "10     22\n",
              "Name: Quantity Sold (liters/kg), dtype: int64"
            ]
          },
          "metadata": {},
          "execution_count": 10
        }
      ]
    },
    {
      "cell_type": "code",
      "source": [
        "class_interval= pd.cut(x=df['Quantity Sold (liters/kg)'], bins=[0, 100, 200, 300, 400, 500, 600, 700, 800, 900, 1000],\n",
        "                    labels=['0 - 100', '100 - 200', '200 - 300',\n",
        "                            '300 - 400', '400 - 500', '500 - 600',\n",
        "                            '600 - 700', '700 - 800','800 - 900', '900 - 1000'])\n",
        "Frequency= class_interval.value_counts()\n",
        "\n",
        "# We can check the frequency of each bin\n",
        "# print(df['bins'].value_counts())\n",
        "print(Frequency )\n",
        "# print(df)"
      ],
      "metadata": {
        "colab": {
          "base_uri": "https://localhost:8080/"
        },
        "id": "MZwGPAeLDUpl",
        "outputId": "7bf4bde3-0d0d-43f5-e1e8-bb0cd52f0444"
      },
      "execution_count": null,
      "outputs": [
        {
          "output_type": "stream",
          "name": "stdout",
          "text": [
            "0 - 100       1423\n",
            "100 - 200      824\n",
            "200 - 300      615\n",
            "300 - 400      487\n",
            "400 - 500      329\n",
            "500 - 600      277\n",
            "600 - 700      182\n",
            "700 - 800       98\n",
            "800 - 900       63\n",
            "900 - 1000      27\n",
            "Name: Quantity Sold (liters/kg), dtype: int64\n"
          ]
        }
      ]
    },
    {
      "cell_type": "code",
      "source": [
        "data = pd.DataFrame(Frequency)\n",
        "print(data)"
      ],
      "metadata": {
        "colab": {
          "base_uri": "https://localhost:8080/"
        },
        "id": "cFm6HCtZIB_9",
        "outputId": "264cf8fa-8b5d-4f74-e32f-b81d4db2e2ca"
      },
      "execution_count": null,
      "outputs": [
        {
          "output_type": "stream",
          "name": "stdout",
          "text": [
            "            Quantity Sold (liters/kg)\n",
            "0 - 100                          1423\n",
            "100 - 200                         824\n",
            "200 - 300                         615\n",
            "300 - 400                         487\n",
            "400 - 500                         329\n",
            "500 - 600                         277\n",
            "600 - 700                         182\n",
            "700 - 800                          98\n",
            "800 - 900                          63\n",
            "900 - 1000                         27\n"
          ]
        }
      ]
    },
    {
      "cell_type": "code",
      "source": [
        "data.to_csv('file2.csv')"
      ],
      "metadata": {
        "id": "nx-VvmeTJKHN"
      },
      "execution_count": null,
      "outputs": []
    },
    {
      "cell_type": "markdown",
      "source": [
        "FOR GROUPED DATA\n"
      ],
      "metadata": {
        "id": "rS-nxzrRQdW8"
      }
    },
    {
      "cell_type": "code",
      "source": [
        "import pandas as pd\n",
        "# import statistics as st\n",
        "\n",
        "data = pd.read_csv(\"/content/grp_data.csv\")\n",
        "\n",
        "\n",
        "# temp = data.iloc[:,10:11]\n",
        "\n",
        "\n",
        "def split_mean(x):\n",
        "  # split before and after the hyphen (-)\n",
        "  split_num = x.split(\"-\")\n",
        "  if len(split_num) == 2:\n",
        "     return (float(split_num[0])+float(split_num[1]))/2\n",
        "  else:\n",
        "     return float(x)\n",
        "\n",
        "\n",
        "sum = 0\n",
        "midpoint = []\n",
        "# finding midpoints of grouped Data\n",
        "for i in range(0,9):\n",
        "  #  print(data.Range[i], \"i value \")\n",
        "   midpoint.append(split_mean(data['Quantity Sold (liters/kg)'][i]))\n",
        "  #  sum = sum + res\n",
        "  #  means = sum / 9\n",
        "\n",
        "dataframe = pd.DataFrame(data)\n",
        "# dataframe['Midpoint'] = midpoint\n",
        "# print(dataframe[[\"class_interval\", \"frequency\",\"Midpoint\"]])\n",
        "# count = dataframe.groupby(['Area', 'Yield']).size()\n",
        "# count = (dataframe.groupby(['Area', 'Yield']).size()\n",
        "#    .sort_values(ascending=False)\n",
        "#    .reset_index(name='count')\n",
        "#    .drop_duplicates(subset='Yield'))\n",
        "# print(pd.DataFrame(count))\n",
        "\n",
        "def mean_grouped(x,feq):\n",
        "   den = 0\n",
        "   num = 0\n",
        "   for i in range(0,9):\n",
        "      den = den + feq[i]  #summation of feq\n",
        "      Num = x[i]*float(feq[i])\n",
        "      num = num + Num\n",
        "   mean_data = num/den   # mean = xi*feq(i) / summ(feq)\n",
        "  #  print(\"mean: \",mean_data)\n",
        "   return mean_data\n",
        "\n",
        "\n",
        "\n",
        "def Median_Data(x,feq):\n",
        "   cf = []\n",
        "   diff = []\n",
        "   temp = 0\n",
        "   for i in range(0,9):\n",
        "      temp = temp + feq[i]\n",
        "      cf.append(temp)\n",
        "   n = cf[-1]/2\n",
        "   for i in cf:\n",
        "      diff.append(n-i)\n",
        "   Median_class = diff. index(min(filter(lambda x : x > 0, diff)))\n",
        "   Range = x[Median_class]\n",
        "   split_num = Range.split(\"-\")\n",
        "   Lower_limit = float(split_num[0])\n",
        "   upper_limit = float(split_num[1])\n",
        "   difference = upper_limit - Lower_limit\n",
        "   Frequency = feq[Median_class]\n",
        "   cum_freq = cf[Median_class]\n",
        "   Median_data = Lower_limit + ((n-cum_freq)/Frequency)*difference\n",
        "  #  print(\"Median: \",Median_data)\n",
        "   return Median_data\n",
        "\n",
        "\n",
        "\n",
        "def Mode_data(x,feq):\n",
        "   freq = []\n",
        "   for i in feq:\n",
        "      freq.append(float(i))\n",
        "   mode_class = freq. index(max(freq))\n",
        "   Range = x[mode_class]\n",
        "   split_num = Range.split(\"-\")\n",
        "   Lower_limit = float(split_num[0])\n",
        "   upper_limit = float(split_num[1])\n",
        "   difference = upper_limit - Lower_limit\n",
        "   frequency = freq[mode_class]\n",
        "   f0 = freq[mode_class - 1]\n",
        "   f2 = freq[mode_class + 1]\n",
        "   # print(\"Range\",Range,\"lower: \",Lower_limit,\"upper: \",upper_limit,\"difference: \",difference,\"frequency: \",frequency,\"f0: \",f0,\"f2: \",f2)\n",
        "   mode_data = Lower_limit + ((frequency - f0)/(2*frequency - f0 - f2))*difference\n",
        "  #  print(\"mode: \",mode_data)\n",
        "   return mode_data\n",
        "print(\"<-------1. Computation of central tendency---->\\n\")\n",
        "Mean_data = mean_grouped(midpoint,data.Frequency)\n",
        "Median_Data = Median_Data(data['Quantity Sold (liters/kg)'],data.Frequency)\n",
        "Mode_Data = Mode_data(data['Quantity Sold (liters/kg)'],data.Frequency)\n",
        "\n",
        "print(\"Mean: \",Mean_data)\n",
        "print(\"Median: \",Median_Data)\n",
        "print(\"Mode: \",Mode_Data)\n",
        "\n",
        "\n",
        "def Variance_data(x,feq):\n",
        "   xi2 = []\n",
        "   fixi = 0\n",
        "   fixi2 = 0\n",
        "   n = 0\n",
        "   for i in midpoint:\n",
        "      xi2.append(i**2)\n",
        "\n",
        "   for i in range(0,9):\n",
        "      fixi = fixi + float(feq[i])*midpoint[i]\n",
        "      fixi2 = fixi2 + float(feq[i])*xi2[i]\n",
        "      n = n + float(feq[i])\n",
        "   # print(midpoint)\n",
        "   # print(xi2)\n",
        "   # print(n)\n",
        "   # print(fixi,fixi2)\n",
        "   # variance_data = (1/(n-1))(fixi2-((fixi/n)*(fixi/n)))\n",
        "  #  print(\"Variance: \",(1/(n-1))*(fixi2-(fixi/n)**2))\n",
        "   return (1/(n-1))*(fixi2-(fixi/n)**2),((1/(n-1))*(fixi2-(fixi/n)**2))**1/2\n",
        "  #  print(\"standard Deviation: \",((1/(n-1))*(fixi2-(fixi/n)**2))**1/2)\n",
        "\n",
        "\n",
        "print(\"\\n<-------2. Computation of Dispersion---->\\n\")\n",
        "Variance, Standard_Variance = Variance_data(midpoint,data.Frequency)\n",
        "\n",
        "print(\"Range of Frequency: \",max(data.Frequency)-min(data.Frequency))\n",
        "print(\"Variance: \",Variance)\n",
        "print(\"Standard_Variance: \",Standard_Variance)\n",
        "\n",
        "skewness = (3*(Mean_data-Median_Data))/Standard_Variance\n",
        "print(\"\\nSkewness: \",skewness)"
      ],
      "metadata": {
        "colab": {
          "base_uri": "https://localhost:8080/"
        },
        "id": "uL0jkxE5QhSJ",
        "outputId": "cd107ac2-8ec4-479d-a19a-ded646e7a3ee"
      },
      "execution_count": null,
      "outputs": [
        {
          "output_type": "stream",
          "name": "stdout",
          "text": [
            "<-------1. Computation of central tendency---->\n",
            "\n",
            "Mean:  247.7198697068404\n",
            "Median:  51.01897399859452\n",
            "Mode:  69.9749373433584\n",
            "\n",
            "<-------2. Computation of Dispersion---->\n",
            "\n",
            "Range of Frequency:  1396\n",
            "Variance:  104278.24874706828\n",
            "Standard_Variance:  52139.12437353414\n",
            "\n",
            "Skewness:  0.01131784805009641\n"
          ]
        }
      ]
    }
  ]
}